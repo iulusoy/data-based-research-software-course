{
 "cells": [
  {
   "cell_type": "markdown",
   "metadata": {},
   "source": [
    "# Plots for the slides"
   ]
  },
  {
   "cell_type": "code",
   "execution_count": null,
   "metadata": {},
   "outputs": [],
   "source": [
    "# import all required libraries\n",
    "import pandas as pd\n",
    "import matplotlib.pyplot as plt\n",
    "import numpy as np\n",
    "# set matplotlib font size\n",
    "plt.rcParams[\"font.size\"] = \"20\""
   ]
  },
  {
   "cell_type": "code",
   "execution_count": null,
   "metadata": {},
   "outputs": [],
   "source": [
    "# read in the dataset using pandas\n",
    "# it will complain about the \"Publisher\" column, but we don't need it\n",
    "raw_dataset = pd.read_csv(\"../data/journal_ranking_data.csv\")\n"
   ]
  },
  {
   "cell_type": "code",
   "execution_count": null,
   "metadata": {},
   "outputs": [],
   "source": [
    "plt.plot(raw_dataset[\"CiteScore\"], raw_dataset[\"Cites/Doc. 2y\"], \"x\")\n",
    "plt.xlabel(\"CiteScore\")\n",
    "plt.ylabel(\"Cites/Doc. 2y\")\n",
    "plt.tight_layout()\n",
    "plt.savefig(\"plot_data.png\")\n",
    "plt.show()"
   ]
  },
  {
   "cell_type": "code",
   "execution_count": null,
   "metadata": {},
   "outputs": [],
   "source": [
    "# remove all high values of CiteScore\n",
    "raw_dataset[raw_dataset[\"CiteScore\"].gt(100)].index\n",
    "clean_dataset = raw_dataset.drop(raw_dataset[raw_dataset[\"CiteScore\"].gt(100)].index)\n",
    "# remove all high values of Cites/Doc. 2y\n",
    "clean_dataset = clean_dataset.drop(\n",
    "    clean_dataset[clean_dataset[\"Cites/Doc. 2y\"].gt(43)].index\n",
    ")"
   ]
  },
  {
   "cell_type": "code",
   "execution_count": null,
   "metadata": {},
   "outputs": [],
   "source": [
    "plt.plot(clean_dataset[\"CiteScore\"], clean_dataset[\"Cites/Doc. 2y\"], \"x\")\n",
    "line = np.linspace(0, 100, 50)\n",
    "m = 0.5\n",
    "b = 0\n",
    "b1 = 7\n",
    "b2 = -7\n",
    "y1 = line * m + b1\n",
    "y2 = line * m + b2\n",
    "y = line * m + b\n",
    "\n",
    "plt.plot(line, y, color=\"black\")\n",
    "plt.plot(line, y1, color=\"grey\")\n",
    "plt.plot(line, y2, color=\"grey\")\n",
    "plt.fill_between(line, y1, y2, color=\"grey\", alpha=0.2)\n",
    "plt.xlim(0, 100)\n",
    "plt.ylim(0, 50)\n",
    "plt.xlabel(\"CiteScore\")\n",
    "plt.ylabel(\"Cites/Doc. 2y\")\n",
    "plt.tight_layout()\n",
    "plt.savefig(\"plot_with_eror.png\")\n",
    "plt.show()"
   ]
  },
  {
   "cell_type": "code",
   "execution_count": null,
   "metadata": {},
   "outputs": [],
   "source": [
    "line = np.linspace(0, 100, 50)\n",
    "m = 0.5\n",
    "b = 0\n",
    "b1 = 2\n",
    "b2 = -2\n",
    "y1 = line * m + b1\n",
    "y2 = line * m + b2\n",
    "y = line * m + b\n",
    "noise = np.random.rand(len(line))\n",
    "y_noise = (line + (noise-0.5)*10) * m + b\n",
    "\n",
    "plt.plot(line, y_noise, \"x\")\n",
    "\n",
    "plt.plot(line, y, color=\"black\")\n",
    "plt.plot(line, y1, color=\"grey\")\n",
    "plt.plot(line, y2, color=\"grey\")\n",
    "plt.fill_between(line, y1, y2, color=\"grey\", alpha=0.2)\n",
    "plt.ylim(0, 50)\n",
    "plt.xlabel(\"CiteScore\")\n",
    "plt.ylabel(\"Cites/Doc. 2y\")\n",
    "plt.tight_layout()\n",
    "plt.savefig(\"plot_with_eror_noise.png\")\n",
    "plt.show()"
   ]
  },
  {
   "cell_type": "code",
   "execution_count": null,
   "metadata": {},
   "outputs": [],
   "source": []
  }
 ],
 "metadata": {
  "kernelspec": {
   "display_name": "ai-rs",
   "language": "python",
   "name": "python3"
  },
  "language_info": {
   "codemirror_mode": {
    "name": "ipython",
    "version": 3
   },
   "file_extension": ".py",
   "mimetype": "text/x-python",
   "name": "python",
   "nbconvert_exporter": "python",
   "pygments_lexer": "ipython3",
   "version": "3.11.8"
  }
 },
 "nbformat": 4,
 "nbformat_minor": 2
}
