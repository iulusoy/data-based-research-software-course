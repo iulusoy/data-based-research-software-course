{
 "cells": [
  {
   "cell_type": "markdown",
   "metadata": {},
   "source": [
    "# Notebook 1: Data Collection\n",
    "Data taken from https://www.kaggle.com/datasets/arnavvvvv/spotify-music/data"
   ]
  },
  {
   "cell_type": "code",
   "execution_count": null,
   "metadata": {},
   "outputs": [],
   "source": [
    "import pandas as pd\n",
    "import matplotlib.pyplot as plt\n",
    "\n",
    "plt.rcParams[\"font.size\"] = \"20\""
   ]
  },
  {
   "cell_type": "code",
   "execution_count": null,
   "metadata": {},
   "outputs": [],
   "source": [
    "raw_dataset = pd.read_csv(\"../data/Popular_Spotify_Songs.csv\", encoding=\"ISO-8859-1\")"
   ]
  },
  {
   "cell_type": "code",
   "execution_count": null,
   "metadata": {},
   "outputs": [],
   "source": [
    "raw_dataset.head()"
   ]
  },
  {
   "cell_type": "code",
   "execution_count": null,
   "metadata": {},
   "outputs": [],
   "source": [
    "plt.plot(raw_dataset[\"in_spotify_charts\"], raw_dataset[\"danceability_%\"], \"x\")\n",
    "plt.xlabel(\"In Spotify Charts\")\n",
    "plt.ylabel(\"Danceability (%)\")\n",
    "plt.show()"
   ]
  },
  {
   "cell_type": "code",
   "execution_count": null,
   "metadata": {},
   "outputs": [],
   "source": [
    "plt.plot(raw_dataset[\"in_spotify_playlists\"], raw_dataset[\"streams\"], \"x\")\n",
    "plt.xlabel(\"In Spotify Playlists\")\n",
    "plt.ylabel(\"Streams\")\n",
    "plt.tight_layout()\n",
    "plt.savefig(\"spotify_playlists_vs_streams.png\")\n",
    "plt.show()"
   ]
  },
  {
   "cell_type": "code",
   "execution_count": null,
   "metadata": {},
   "outputs": [],
   "source": [
    "corr = raw_dataset.corr(numeric_only=True)\n",
    "corr.style.background_gradient(cmap=\"coolwarm\")"
   ]
  },
  {
   "cell_type": "code",
   "execution_count": null,
   "metadata": {},
   "outputs": [],
   "source": [
    "plt.plot(raw_dataset[\"in_apple_playlists\"], raw_dataset[\"in_spotify_playlists\"], \"x\")\n",
    "plt.show()"
   ]
  },
  {
   "cell_type": "code",
   "execution_count": null,
   "metadata": {},
   "outputs": [],
   "source": [
    "plt.plot(raw_dataset[\"in_apple_playlists\"], raw_dataset[\"in_spotify_playlists\"], \"x\")\n",
    "plt.xlim(0, 50)\n",
    "plt.ylim(0, 2000)\n",
    "plt.xlabel(\"In Apple Playlists\")\n",
    "plt.ylabel(\"In Spotify Playlists\")\n",
    "plt.tight_layout()\n",
    "plt.savefig(\"apple_vs_spotify_playlists.png\")\n",
    "plt.show()"
   ]
  },
  {
   "cell_type": "code",
   "execution_count": null,
   "metadata": {},
   "outputs": [],
   "source": [
    "# Get the variance of the columns\n",
    "variance_apple = raw_dataset[\"in_apple_playlists\"].var()\n",
    "variance_spotify = raw_dataset[\"in_spotify_playlists\"].var()"
   ]
  },
  {
   "cell_type": "code",
   "execution_count": null,
   "metadata": {},
   "outputs": [],
   "source": [
    "print(variance_apple)\n",
    "print(variance_spotify)"
   ]
  },
  {
   "cell_type": "code",
   "execution_count": null,
   "metadata": {},
   "outputs": [],
   "source": [
    "# read in journal data\n",
    "# https://www.kaggle.com/datasets/xabirhasan/journal-ranking-dataset\n",
    "raw_dataset = pd.read_csv(\"../data/journal_ranking_data.csv\")"
   ]
  },
  {
   "cell_type": "code",
   "execution_count": null,
   "metadata": {},
   "outputs": [],
   "source": [
    "raw_dataset.head()"
   ]
  },
  {
   "cell_type": "code",
   "execution_count": null,
   "metadata": {},
   "outputs": [],
   "source": [
    "corr = raw_dataset.corr(numeric_only=True)\n",
    "corr.style.background_gradient(cmap=\"coolwarm\")"
   ]
  },
  {
   "cell_type": "code",
   "execution_count": null,
   "metadata": {},
   "outputs": [],
   "source": [
    "# citescore: A citation index calculated by Scopus\n",
    "# CiteScore is the number of citations received by a journal in one year to documents published in the\n",
    "# three previous years, divided by the number of documents indexed in Scopus published in those same three years.\n",
    "# cites/ doc2y: Total number of citations divided by the total number of documents in the past 2 years\n",
    "plt.plot(raw_dataset[\"CiteScore\"], raw_dataset[\"Cites/Doc. 2y\"], \"x\")\n",
    "# plt.xlim(0, 50)\n",
    "# plt.ylim(0, 2000)\n",
    "plt.xlabel(\"CiteScore\")\n",
    "plt.ylabel(\"Cites/Doc. 2y\")\n",
    "plt.tight_layout()\n",
    "plt.savefig(\"citescore_vs_cites2y.png\")\n",
    "plt.show()"
   ]
  },
  {
   "cell_type": "code",
   "execution_count": null,
   "metadata": {},
   "outputs": [],
   "source": [
    "raw_dataset.loc[raw_dataset[\"CiteScore\"].idxmax()]"
   ]
  },
  {
   "cell_type": "code",
   "execution_count": null,
   "metadata": {},
   "outputs": [],
   "source": []
  }
 ],
 "metadata": {
  "kernelspec": {
   "display_name": "ai-rs",
   "language": "python",
   "name": "python3"
  },
  "language_info": {
   "codemirror_mode": {
    "name": "ipython",
    "version": 3
   },
   "file_extension": ".py",
   "mimetype": "text/x-python",
   "name": "python",
   "nbconvert_exporter": "python",
   "pygments_lexer": "ipython3",
   "version": "3.11.8"
  }
 },
 "nbformat": 4,
 "nbformat_minor": 2
}
