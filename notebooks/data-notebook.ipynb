{
 "cells": [
  {
   "cell_type": "markdown",
   "metadata": {},
   "source": [
    "# Notebook 1: Data Collection and inspection\n",
    "Data taken from the [journal ranking dataset](https://www.kaggle.com/datasets/xabirhasan/journal-ranking-dataset). Details about the scraping process are in [this GitHub repo](https://github.com/abir0/SJR-Journal-Ranking).\n"
   ]
  },
  {
   "cell_type": "code",
   "execution_count": null,
   "metadata": {},
   "outputs": [],
   "source": [
    "# import all required libraries\n",
    "import pandas as pd\n",
    "import matplotlib.pyplot as plt\n",
    "import plotly.express as px\n",
    "# set matplotlib font size\n",
    "plt.rcParams[\"font.size\"] = \"20\""
   ]
  },
  {
   "cell_type": "code",
   "execution_count": null,
   "metadata": {},
   "outputs": [],
   "source": [
    "# read in the dataset using pandas\n",
    "# it will complain about the \"Publisher\" column, but we don't need it\n",
    "raw_dataset = pd.read_csv(\"../data/journal_ranking_data.csv\")"
   ]
  },
  {
   "cell_type": "code",
   "execution_count": null,
   "metadata": {},
   "outputs": [],
   "source": [
    "# inspect the first few rows of the dataset\n",
    "raw_dataset.head()"
   ]
  },
  {
   "cell_type": "code",
   "execution_count": null,
   "metadata": {},
   "outputs": [],
   "source": [
    "raw_dataset.describe()"
   ]
  },
  {
   "cell_type": "code",
   "execution_count": null,
   "metadata": {},
   "outputs": [],
   "source": [
    "# look at correlations in the data\n",
    "corr = raw_dataset.corr(numeric_only=True)\n",
    "corr.style.background_gradient(cmap='coolwarm')"
   ]
  },
  {
   "cell_type": "code",
   "execution_count": null,
   "metadata": {},
   "outputs": [],
   "source": [
    "# inspect using plotly: raw data with unbalanced CiteScore\n",
    "fig = px.histogram(raw_dataset, x=\"CiteScore\", nbins=400)\n",
    "fig.show()"
   ]
  },
  {
   "cell_type": "code",
   "execution_count": null,
   "metadata": {},
   "outputs": [],
   "source": [
    "# remove all high values of CiteScore\n",
    "raw_dataset[raw_dataset[\"CiteScore\"].gt(100)].index\n",
    "clean_dataset = raw_dataset.drop(raw_dataset[raw_dataset[\"CiteScore\"].gt(100)].index)"
   ]
  },
  {
   "cell_type": "code",
   "execution_count": null,
   "metadata": {},
   "outputs": [],
   "source": [
    "# inspect using plotly: cleaned data with slightly more balanced CiteScore\n",
    "fig = px.histogram(clean_dataset, x=\"CiteScore\", nbins=400)\n",
    "fig.show()"
   ]
  },
  {
   "cell_type": "code",
   "execution_count": null,
   "metadata": {},
   "outputs": [],
   "source": [
    "# visualize outliers\n",
    "fig = px.box(clean_dataset, x=\"CiteScore\")\n",
    "fig.show()"
   ]
  },
  {
   "cell_type": "code",
   "execution_count": null,
   "metadata": {},
   "outputs": [],
   "source": [
    "# inspect using plotly: raw data with unbalanced Cites/Doc. 2y\n",
    "fig = px.histogram(raw_dataset, x=\"Cites/Doc. 2y\", nbins=400)\n",
    "fig.show()"
   ]
  },
  {
   "cell_type": "code",
   "execution_count": null,
   "metadata": {},
   "outputs": [],
   "source": [
    "# remove all high values of Cites/Doc. 2y\n",
    "clean_dataset = clean_dataset.drop(\n",
    "    clean_dataset[clean_dataset[\"Cites/Doc. 2y\"].gt(43)].index\n",
    ")"
   ]
  },
  {
   "cell_type": "code",
   "execution_count": null,
   "metadata": {},
   "outputs": [],
   "source": [
    "# inspect using plotly: cleaned data with more balanced Cites/Doc. 2y\n",
    "fig = px.histogram(clean_dataset, x=\"Cites/Doc. 2y\", nbins=400)\n",
    "fig.show()"
   ]
  },
  {
   "cell_type": "code",
   "execution_count": null,
   "metadata": {},
   "outputs": [],
   "source": [
    "# visualize outliers\n",
    "fig = px.box(clean_dataset, \"Cites/Doc. 2y\")\n",
    "fig.show()"
   ]
  },
  {
   "cell_type": "code",
   "execution_count": null,
   "metadata": {},
   "outputs": [],
   "source": [
    "# remove duplicates from complete dataset\n",
    "no_duplicates = clean_dataset.drop_duplicates(subset=[\"CiteScore\", \"Cites/Doc. 2y\"])"
   ]
  },
  {
   "cell_type": "code",
   "execution_count": null,
   "metadata": {},
   "outputs": [],
   "source": [
    "fig = px.histogram(no_duplicates, x=\"CiteScore\", nbins=400)\n",
    "fig.show()"
   ]
  },
  {
   "cell_type": "code",
   "execution_count": null,
   "metadata": {},
   "outputs": [],
   "source": [
    "fig = px.histogram(no_duplicates, x=\"Cites/Doc. 2y\", nbins=400)\n",
    "fig.show()"
   ]
  },
  {
   "cell_type": "code",
   "execution_count": null,
   "metadata": {},
   "outputs": [],
   "source": []
  }
 ],
 "metadata": {
  "kernelspec": {
   "display_name": "Python 3 (ipykernel)",
   "language": "python",
   "name": "python3"
  },
  "language_info": {
   "codemirror_mode": {
    "name": "ipython",
    "version": 3
   },
   "file_extension": ".py",
   "mimetype": "text/x-python",
   "name": "python",
   "nbconvert_exporter": "python",
   "pygments_lexer": "ipython3",
   "version": "3.11.8"
  }
 },
 "nbformat": 4,
 "nbformat_minor": 4
}
