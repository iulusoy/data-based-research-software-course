{
 "cells": [
  {
   "cell_type": "markdown",
   "metadata": {},
   "source": [
    "# Notebook 1: Data Collection\n",
    "Data taken from https://www.kaggle.com/datasets/arnavvvvv/spotify-music/data"
   ]
  },
  {
   "cell_type": "code",
   "execution_count": null,
   "metadata": {},
   "outputs": [],
   "source": [
    "import pandas as pd\n",
    "import numpy as np\n",
    "import matplotlib.pyplot as plt\n",
    "\n",
    "plt.rcParams[\"font.size\"] = \"20\""
   ]
  },
  {
   "cell_type": "code",
   "execution_count": null,
   "metadata": {},
   "outputs": [],
   "source": [
    "raw_dataset = pd.read_csv(\"../data/journal_ranking_data.csv\")"
   ]
  },
  {
   "cell_type": "code",
   "execution_count": null,
   "metadata": {},
   "outputs": [],
   "source": [
    "raw_dataset.head()"
   ]
  },
  {
   "cell_type": "code",
   "execution_count": null,
   "metadata": {},
   "outputs": [],
   "source": [
    "# plt.plot(raw_dataset[\"in_spotify_charts\"], raw_dataset[\"danceability_%\"], \"x\")\n",
    "# plt.xlabel(\"In Spotify Charts\")\n",
    "# plt.ylabel(\"Danceability (%)\")\n",
    "d = {\"col1\": [1, 2], \"col2\": [1, 3]}\n",
    "df = pd.DataFrame(data=d)"
   ]
  },
  {
   "cell_type": "code",
   "execution_count": null,
   "metadata": {},
   "outputs": [],
   "source": [
    "df.head()"
   ]
  },
  {
   "cell_type": "code",
   "execution_count": null,
   "metadata": {},
   "outputs": [],
   "source": [
    "df.var()"
   ]
  },
  {
   "cell_type": "code",
   "execution_count": null,
   "metadata": {},
   "outputs": [],
   "source": [
    "mu1 = (1 + 2) / 2\n",
    "var_col1 = (1 - mu1) ** 2 + (2 - mu1) ** 2\n",
    "print(mu1, var_col1)"
   ]
  },
  {
   "cell_type": "code",
   "execution_count": null,
   "metadata": {},
   "outputs": [],
   "source": [
    "mu2 = (1 + 3) / 2\n",
    "var_col2 = (1 - mu2) ** 2 + (3 - mu2) ** 2\n",
    "print(mu2, var_col2)"
   ]
  },
  {
   "cell_type": "code",
   "execution_count": null,
   "metadata": {},
   "outputs": [],
   "source": [
    "df.mean()"
   ]
  },
  {
   "cell_type": "code",
   "execution_count": null,
   "metadata": {},
   "outputs": [],
   "source": [
    "df.median()"
   ]
  },
  {
   "cell_type": "code",
   "execution_count": null,
   "metadata": {},
   "outputs": [],
   "source": [
    "df.sem()"
   ]
  },
  {
   "cell_type": "code",
   "execution_count": null,
   "metadata": {},
   "outputs": [],
   "source": [
    "df.std()"
   ]
  },
  {
   "cell_type": "code",
   "execution_count": null,
   "metadata": {},
   "outputs": [],
   "source": [
    "np.sqrt(var_col1)  # std error"
   ]
  },
  {
   "cell_type": "code",
   "execution_count": null,
   "metadata": {},
   "outputs": [],
   "source": [
    "np.sqrt(var_col2)"
   ]
  },
  {
   "cell_type": "code",
   "execution_count": null,
   "metadata": {},
   "outputs": [],
   "source": [
    "np.sqrt(var_col1) / np.sqrt(2)  # sem - std error of the mean"
   ]
  },
  {
   "cell_type": "code",
   "execution_count": null,
   "metadata": {},
   "outputs": [],
   "source": [
    "np.sqrt(var_col2) / np.sqrt(2)"
   ]
  },
  {
   "cell_type": "code",
   "execution_count": null,
   "metadata": {},
   "outputs": [],
   "source": [
    "plt.plot(raw_dataset[\"CiteScore\"], raw_dataset[\"Cites/Doc. 2y\"], \"x\")"
   ]
  },
  {
   "cell_type": "code",
   "execution_count": null,
   "metadata": {},
   "outputs": [],
   "source": [
    "plt.plot(raw_dataset[\"CiteScore\"], raw_dataset[\"Cites/Doc. 2y\"], \"x\")\n",
    "plt.xlabel(\"CiteScore\")\n",
    "plt.ylabel(\"Cites/Doc. 2y\")\n",
    "plt.rcParams.update({\"font.size\": 14})\n",
    "plt.tight_layout()\n",
    "plt.savefig(\"plot_data.png\")\n",
    "plt.show()"
   ]
  },
  {
   "cell_type": "code",
   "execution_count": null,
   "metadata": {},
   "outputs": [],
   "source": [
    "raw_dataset[raw_dataset[\"CiteScore\"].gt(100)].index\n",
    "clean_dataset = raw_dataset.drop(raw_dataset[raw_dataset[\"CiteScore\"].gt(100)].index)"
   ]
  },
  {
   "cell_type": "code",
   "execution_count": null,
   "metadata": {},
   "outputs": [],
   "source": [
    "clean_dataset = clean_dataset.drop(\n",
    "    clean_dataset[clean_dataset[\"Cites/Doc. 2y\"].gt(43)].index\n",
    ")"
   ]
  },
  {
   "cell_type": "code",
   "execution_count": null,
   "metadata": {},
   "outputs": [],
   "source": [
    "plt.plot(clean_dataset[\"CiteScore\"], clean_dataset[\"Cites/Doc. 2y\"], \"x\")\n",
    "line = np.linspace(0, 100, 50)\n",
    "m = 0.5\n",
    "b = 0\n",
    "b1 = 7\n",
    "b2 = -7\n",
    "y1 = line * m + b1\n",
    "y2 = line * m + b2\n",
    "y = line * m + b\n",
    "\n",
    "plt.plot(line, y, color=\"black\")\n",
    "plt.plot(line, y1, color=\"grey\")\n",
    "plt.plot(line, y2, color=\"grey\")\n",
    "plt.fill_between(line, y1, y2, color=\"grey\", alpha=0.2)\n",
    "plt.ylim(0, 50)\n",
    "plt.xlabel(\"CiteScore\")\n",
    "plt.ylabel(\"Cites/Doc. 2y\")\n",
    "plt.rcParams.update({\"font.size\": 14})\n",
    "plt.tight_layout()\n",
    "plt.savefig(\"plot_with_eror.png\")\n",
    "plt.show()"
   ]
  },
  {
   "cell_type": "code",
   "execution_count": null,
   "metadata": {},
   "outputs": [],
   "source": [
    "corr = raw_dataset.corr(numeric_only=True)\n",
    "corr.style.background_gradient(cmap=\"coolwarm\")\n",
    "x = raw_dataset[\"CiteScore\"].to_numpy()\n",
    "y = raw_dataset[\"Cites/Doc. 2y\"].to_numpy()"
   ]
  },
  {
   "cell_type": "code",
   "execution_count": null,
   "metadata": {},
   "outputs": [],
   "source": [
    "(m, b), (SSE,), *_ = np.polyfit(x, y, deg=1, full=True)"
   ]
  },
  {
   "cell_type": "code",
   "execution_count": null,
   "metadata": {},
   "outputs": [],
   "source": [
    "# m, c = np.linalg.lstsq(A, y, rcond=None)[0]\n",
    "# m, c"
   ]
  },
  {
   "cell_type": "code",
   "execution_count": null,
   "metadata": {},
   "outputs": [],
   "source": [
    "plt.plot(raw_dataset[\"in_apple_playlists\"], raw_dataset[\"in_spotify_playlists\"], \"x\")\n",
    "plt.xlim(0, 50)\n",
    "plt.ylim(0, 2000)\n",
    "plt.xlabel(\"In Apple Playlists\")\n",
    "plt.ylabel(\"In Spotify Playlists\")\n",
    "plt.tight_layout()\n",
    "plt.savefig(\"apple_vs_spotify_playlists.png\")\n",
    "plt.show()"
   ]
  },
  {
   "cell_type": "code",
   "execution_count": null,
   "metadata": {},
   "outputs": [],
   "source": [
    "# Get the variance of the columns\n",
    "variance_apple = raw_dataset[\"in_apple_playlists\"].var()\n",
    "variance_spotify = raw_dataset[\"in_spotify_playlists\"].var()"
   ]
  },
  {
   "cell_type": "code",
   "execution_count": null,
   "metadata": {},
   "outputs": [],
   "source": [
    "print(variance_apple)\n",
    "print(variance_spotify)"
   ]
  },
  {
   "cell_type": "code",
   "execution_count": null,
   "metadata": {},
   "outputs": [],
   "source": [
    "# read in journal data\n",
    "# https://www.kaggle.com/datasets/xabirhasan/journal-ranking-dataset\n",
    "raw_dataset = pd.read_csv(\"../data/journal_ranking_data.csv\")"
   ]
  },
  {
   "cell_type": "code",
   "execution_count": null,
   "metadata": {},
   "outputs": [],
   "source": [
    "raw_dataset.head()"
   ]
  },
  {
   "cell_type": "code",
   "execution_count": null,
   "metadata": {},
   "outputs": [],
   "source": [
    "corr = raw_dataset.corr(numeric_only=True)\n",
    "corr.style.background_gradient(cmap=\"coolwarm\")"
   ]
  },
  {
   "cell_type": "code",
   "execution_count": null,
   "metadata": {},
   "outputs": [],
   "source": [
    "# citescore: A citation index calculated by Scopus\n",
    "# CiteScore is the number of citations received by a journal in one year to documents published in the\n",
    "# three previous years, divided by the number of documents indexed in Scopus published in those same three years.\n",
    "# cites/ doc2y: Total number of citations divided by the total number of documents in the past 2 years\n",
    "plt.plot(raw_dataset[\"CiteScore\"], raw_dataset[\"Cites/Doc. 2y\"], \"x\")\n",
    "# plt.xlim(0, 50)\n",
    "# plt.ylim(0, 2000)\n",
    "plt.xlabel(\"CiteScore\")\n",
    "plt.ylabel(\"Cites/Doc. 2y\")\n",
    "plt.tight_layout()\n",
    "plt.savefig(\"citescore_vs_cites2y.png\")\n",
    "plt.show()"
   ]
  },
  {
   "cell_type": "code",
   "execution_count": null,
   "metadata": {},
   "outputs": [],
   "source": [
    "raw_dataset.loc[raw_dataset[\"CiteScore\"].idxmax()]"
   ]
  },
  {
   "cell_type": "code",
   "execution_count": null,
   "metadata": {},
   "outputs": [],
   "source": []
  }
 ],
 "metadata": {
  "kernelspec": {
   "display_name": "Python 3 (ipykernel)",
   "language": "python",
   "name": "python3"
  },
  "language_info": {
   "codemirror_mode": {
    "name": "ipython",
    "version": 3
   },
   "file_extension": ".py",
   "mimetype": "text/x-python",
   "name": "python",
   "nbconvert_exporter": "python",
   "pygments_lexer": "ipython3",
   "version": "3.11.8"
  }
 },
 "nbformat": 4,
 "nbformat_minor": 4
}
